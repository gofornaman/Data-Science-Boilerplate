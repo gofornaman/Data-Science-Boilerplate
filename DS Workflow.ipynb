{
 "cells": [
  {
   "cell_type": "markdown",
   "metadata": {},
   "source": [
    "## Basic template to solve any machine learning problem\n",
    "\n",
    "- Step 1: Define your problem\n",
    "- Step 2: Hypothesis generation\n",
    "- Step 3: Data Preparation \n",
    "\n",
    "            - Identify target feature & predictor\n",
    "            - Missing Value treatment\n",
    "            - Redundancy check\n",
    "            - Outlier treatment\n",
    "            - Imbalance check\n",
    "- Step 4: Exploratory Data Analysis\n",
    "\n",
    "            - Univariate Analysis (Cont & Cat)\n",
    "            - Bivariate Analysis\n",
    "- Step 5: Feature Engineering\n",
    "\n",
    "            - Feature transformation (normalisation & standardization)\n",
    "            - Feature creation (based on business req)\n",
    "- Step 6: Predictive Modeling\n",
    "\n",
    "            - Encoding categorical vars\n",
    "            - Split data into train and test\n",
    "            - Fit the model on train\n",
    "            - Predict on test\n",
    "            - Validation: Accuracy, Confusion matrix, Precision, Recall\n",
    "            \n",
    "- Step 7: Deploy the mode\n",
    "\n",
    "            - Save the model using Pickle\n",
    "            - Create a front end JS\n",
    "            - Build web app using Flask"
   ]
  },
  {
   "cell_type": "markdown",
   "metadata": {},
   "source": [
    "-----------"
   ]
  },
  {
   "cell_type": "code",
   "execution_count": null,
   "metadata": {},
   "outputs": [],
   "source": []
  }
 ],
 "metadata": {
  "kernelspec": {
   "display_name": "Python 3",
   "language": "python",
   "name": "python3"
  },
  "language_info": {
   "codemirror_mode": {
    "name": "ipython",
    "version": 3
   },
   "file_extension": ".py",
   "mimetype": "text/x-python",
   "name": "python",
   "nbconvert_exporter": "python",
   "pygments_lexer": "ipython3",
   "version": "3.6.6"
  }
 },
 "nbformat": 4,
 "nbformat_minor": 2
}
